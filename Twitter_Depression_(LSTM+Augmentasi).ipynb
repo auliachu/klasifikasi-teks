{
  "cells": [
    {
      "cell_type": "code",
      "execution_count": null,
      "metadata": {
        "id": "e7dLajZqe4tB"
      },
      "outputs": [],
      "source": [
        "import pandas as pd\n",
        "import numpy as np\n",
        "import string\n",
        "import tensorflow as tf\n",
        "import matplotlib.pyplot as plt\n",
        "from tensorflow import keras\n",
        "from tensorflow.keras import layers\n",
        "import os\n",
        "import glob"
      ]
    },
    {
      "cell_type": "code",
      "execution_count": null,
      "metadata": {
        "colab": {
          "base_uri": "https://localhost:8080/"
        },
        "id": "TXmcIenifJFK",
        "outputId": "41b3f7c5-2bdf-4702-c809-41f4a073c2ee"
      },
      "outputs": [
        {
          "name": "stdout",
          "output_type": "stream",
          "text": [
            "Mounted at /content/drive/\n"
          ]
        }
      ],
      "source": [
        "from google.colab import drive\n",
        "drive.mount('/content/drive/')"
      ]
    },
    {
      "cell_type": "markdown",
      "metadata": {},
      "source": []
    },
    {
      "cell_type": "code",
      "execution_count": null,
      "metadata": {
        "id": "jf-IGYtTF8nT"
      },
      "outputs": [],
      "source": [
        "files = os.path.join('/content/drive/MyDrive/Twitter Depression Dataset/*.csv')"
      ]
    },
    {
      "cell_type": "code",
      "execution_count": null,
      "metadata": {
        "id": "7k84noSSKRiG"
      },
      "outputs": [],
      "source": [
        "files = glob.glob(files)"
      ]
    },
    {
      "cell_type": "code",
      "execution_count": null,
      "metadata": {
        "colab": {
          "base_uri": "https://localhost:8080/"
        },
        "id": "1wTJnAcbKkIB",
        "outputId": "62dba715-f672-492d-a512-697b16c28095"
      },
      "outputs": [
        {
          "data": {
            "text/plain": [
              "['/content/drive/MyDrive/Twitter Depression Dataset/twitterdepresi_augmented.csv',\n",
              " '/content/drive/MyDrive/Twitter Depression Dataset/Twitterdepresi(label_0) (1).csv']"
            ]
          },
          "execution_count": 5,
          "metadata": {},
          "output_type": "execute_result"
        }
      ],
      "source": [
        "files"
      ]
    },
    {
      "cell_type": "code",
      "execution_count": null,
      "metadata": {
        "colab": {
          "base_uri": "https://localhost:8080/",
          "height": 206
        },
        "id": "SI7qrSskKTeu",
        "outputId": "e6fa0f1d-0c5e-4fef-a8aa-3b1a03ca6735"
      },
      "outputs": [
        {
          "data": {
            "text/html": [
              "\n",
              "  <div id=\"df-96b47ed9-9f1b-4abc-8427-d0b2ae885524\">\n",
              "    <div class=\"colab-df-container\">\n",
              "      <div>\n",
              "<style scoped>\n",
              "    .dataframe tbody tr th:only-of-type {\n",
              "        vertical-align: middle;\n",
              "    }\n",
              "\n",
              "    .dataframe tbody tr th {\n",
              "        vertical-align: top;\n",
              "    }\n",
              "\n",
              "    .dataframe thead th {\n",
              "        text-align: right;\n",
              "    }\n",
              "</style>\n",
              "<table border=\"1\" class=\"dataframe\">\n",
              "  <thead>\n",
              "    <tr style=\"text-align: right;\">\n",
              "      <th></th>\n",
              "      <th>text</th>\n",
              "      <th>label</th>\n",
              "    </tr>\n",
              "  </thead>\n",
              "  <tbody>\n",
              "    <tr>\n",
              "      <th>0</th>\n",
              "      <td>khawatir khawatir dengan gelisah</td>\n",
              "      <td>1.0</td>\n",
              "    </tr>\n",
              "    <tr>\n",
              "      <th>1</th>\n",
              "      <td>Bulan Kalender benar -benar kesalahan bodoh se...</td>\n",
              "      <td>1.0</td>\n",
              "    </tr>\n",
              "    <tr>\n",
              "      <th>2</th>\n",
              "      <td>Aku mual</td>\n",
              "      <td>1.0</td>\n",
              "    </tr>\n",
              "    <tr>\n",
              "      <th>3</th>\n",
              "      <td>Tahan tidur dengan gelisah duduk dengan gelisa...</td>\n",
              "      <td>1.0</td>\n",
              "    </tr>\n",
              "    <tr>\n",
              "      <th>4</th>\n",
              "      <td>Tolong sangat cemas cemas</td>\n",
              "      <td>1.0</td>\n",
              "    </tr>\n",
              "  </tbody>\n",
              "</table>\n",
              "</div>\n",
              "      <button class=\"colab-df-convert\" onclick=\"convertToInteractive('df-96b47ed9-9f1b-4abc-8427-d0b2ae885524')\"\n",
              "              title=\"Convert this dataframe to an interactive table.\"\n",
              "              style=\"display:none;\">\n",
              "        \n",
              "  <svg xmlns=\"http://www.w3.org/2000/svg\" height=\"24px\"viewBox=\"0 0 24 24\"\n",
              "       width=\"24px\">\n",
              "    <path d=\"M0 0h24v24H0V0z\" fill=\"none\"/>\n",
              "    <path d=\"M18.56 5.44l.94 2.06.94-2.06 2.06-.94-2.06-.94-.94-2.06-.94 2.06-2.06.94zm-11 1L8.5 8.5l.94-2.06 2.06-.94-2.06-.94L8.5 2.5l-.94 2.06-2.06.94zm10 10l.94 2.06.94-2.06 2.06-.94-2.06-.94-.94-2.06-.94 2.06-2.06.94z\"/><path d=\"M17.41 7.96l-1.37-1.37c-.4-.4-.92-.59-1.43-.59-.52 0-1.04.2-1.43.59L10.3 9.45l-7.72 7.72c-.78.78-.78 2.05 0 2.83L4 21.41c.39.39.9.59 1.41.59.51 0 1.02-.2 1.41-.59l7.78-7.78 2.81-2.81c.8-.78.8-2.07 0-2.86zM5.41 20L4 18.59l7.72-7.72 1.47 1.35L5.41 20z\"/>\n",
              "  </svg>\n",
              "      </button>\n",
              "      \n",
              "  <style>\n",
              "    .colab-df-container {\n",
              "      display:flex;\n",
              "      flex-wrap:wrap;\n",
              "      gap: 12px;\n",
              "    }\n",
              "\n",
              "    .colab-df-convert {\n",
              "      background-color: #E8F0FE;\n",
              "      border: none;\n",
              "      border-radius: 50%;\n",
              "      cursor: pointer;\n",
              "      display: none;\n",
              "      fill: #1967D2;\n",
              "      height: 32px;\n",
              "      padding: 0 0 0 0;\n",
              "      width: 32px;\n",
              "    }\n",
              "\n",
              "    .colab-df-convert:hover {\n",
              "      background-color: #E2EBFA;\n",
              "      box-shadow: 0px 1px 2px rgba(60, 64, 67, 0.3), 0px 1px 3px 1px rgba(60, 64, 67, 0.15);\n",
              "      fill: #174EA6;\n",
              "    }\n",
              "\n",
              "    [theme=dark] .colab-df-convert {\n",
              "      background-color: #3B4455;\n",
              "      fill: #D2E3FC;\n",
              "    }\n",
              "\n",
              "    [theme=dark] .colab-df-convert:hover {\n",
              "      background-color: #434B5C;\n",
              "      box-shadow: 0px 1px 3px 1px rgba(0, 0, 0, 0.15);\n",
              "      filter: drop-shadow(0px 1px 2px rgba(0, 0, 0, 0.3));\n",
              "      fill: #FFFFFF;\n",
              "    }\n",
              "  </style>\n",
              "\n",
              "      <script>\n",
              "        const buttonEl =\n",
              "          document.querySelector('#df-96b47ed9-9f1b-4abc-8427-d0b2ae885524 button.colab-df-convert');\n",
              "        buttonEl.style.display =\n",
              "          google.colab.kernel.accessAllowed ? 'block' : 'none';\n",
              "\n",
              "        async function convertToInteractive(key) {\n",
              "          const element = document.querySelector('#df-96b47ed9-9f1b-4abc-8427-d0b2ae885524');\n",
              "          const dataTable =\n",
              "            await google.colab.kernel.invokeFunction('convertToInteractive',\n",
              "                                                     [key], {});\n",
              "          if (!dataTable) return;\n",
              "\n",
              "          const docLinkHtml = 'Like what you see? Visit the ' +\n",
              "            '<a target=\"_blank\" href=https://colab.research.google.com/notebooks/data_table.ipynb>data table notebook</a>'\n",
              "            + ' to learn more about interactive tables.';\n",
              "          element.innerHTML = '';\n",
              "          dataTable['output_type'] = 'display_data';\n",
              "          await google.colab.output.renderOutput(dataTable, element);\n",
              "          const docLink = document.createElement('div');\n",
              "          docLink.innerHTML = docLinkHtml;\n",
              "          element.appendChild(docLink);\n",
              "        }\n",
              "      </script>\n",
              "    </div>\n",
              "  </div>\n",
              "  "
            ],
            "text/plain": [
              "                                                text  label\n",
              "0                   khawatir khawatir dengan gelisah    1.0\n",
              "1  Bulan Kalender benar -benar kesalahan bodoh se...    1.0\n",
              "2                                           Aku mual    1.0\n",
              "3  Tahan tidur dengan gelisah duduk dengan gelisa...    1.0\n",
              "4                          Tolong sangat cemas cemas    1.0"
            ]
          },
          "execution_count": 6,
          "metadata": {},
          "output_type": "execute_result"
        }
      ],
      "source": [
        "data = pd.concat(map(pd.read_csv, files), ignore_index=True)\n",
        "data.head()"
      ]
    },
    {
      "cell_type": "code",
      "execution_count": null,
      "metadata": {
        "id": "XH5C9qOQLFCH"
      },
      "outputs": [],
      "source": [
        "data.text = data.text.astype(str)"
      ]
    },
    {
      "cell_type": "code",
      "execution_count": null,
      "metadata": {
        "colab": {
          "base_uri": "https://localhost:8080/"
        },
        "id": "WMsdt0EFKvZl",
        "outputId": "6d9f6113-0dc8-4c75-f254-fa41634f32ca"
      },
      "outputs": [
        {
          "data": {
            "text/plain": [
              "1.0    8257\n",
              "0.0    8104\n",
              "Name: label, dtype: int64"
            ]
          },
          "execution_count": 8,
          "metadata": {},
          "output_type": "execute_result"
        }
      ],
      "source": [
        "data['label'].value_counts()"
      ]
    },
    {
      "cell_type": "code",
      "execution_count": null,
      "metadata": {
        "id": "31YU_2CTfBED"
      },
      "outputs": [],
      "source": [
        "text = data['text']\n",
        "label = data['label']"
      ]
    },
    {
      "cell_type": "code",
      "execution_count": null,
      "metadata": {
        "id": "ZIaTLyoTf6sg"
      },
      "outputs": [],
      "source": [
        "from tensorflow.keras.preprocessing.text import Tokenizer\n",
        "tokenizer = Tokenizer(num_words=10000, oov_token='<UNK>')\n",
        "tokenizer.fit_on_texts(text)"
      ]
    },
    {
      "cell_type": "code",
      "execution_count": null,
      "metadata": {
        "id": "pEgYFKwrf-dS"
      },
      "outputs": [],
      "source": [
        "from tensorflow.keras.preprocessing.sequence import pad_sequences\n",
        "def get_sequences(tokenizer, tweets):\n",
        "    sequences = tokenizer.texts_to_sequences(tweets)\n",
        "    padded_sequences = pad_sequences(sequences, truncating='post', maxlen=40, padding='post')\n",
        "    return padded_sequences"
      ]
    },
    {
      "cell_type": "code",
      "execution_count": null,
      "metadata": {
        "id": "ACDJrx_TgAA3"
      },
      "outputs": [],
      "source": [
        "padded_train_sequences = get_sequences(tokenizer, text)"
      ]
    },
    {
      "cell_type": "code",
      "execution_count": null,
      "metadata": {
        "id": "FsQfgN4QgCkh"
      },
      "outputs": [],
      "source": [
        "classes = set(label)\n",
        "classes_to_index = dict((c, i) for i, c in enumerate(classes))\n",
        "index_to_classes = dict((v, k) for k, v in classes_to_index.items())\n",
        "names_to_ids_training= lambda labels: np.array([classes_to_index.get(x) for x in label])\n",
        "labels = names_to_ids_training(label)"
      ]
    },
    {
      "cell_type": "code",
      "execution_count": null,
      "metadata": {
        "id": "DPEHnPsagD-C"
      },
      "outputs": [],
      "source": [
        "\n",
        "from sklearn.model_selection import train_test_split\n",
        "\n",
        "# Split training data to train and validation set\n",
        "x_train, x_valid, y_train, y_valid = train_test_split(padded_train_sequences, labels, test_size=0.2, shuffle= True, random_state=10)"
      ]
    },
    {
      "cell_type": "code",
      "execution_count": null,
      "metadata": {
        "colab": {
          "base_uri": "https://localhost:8080/"
        },
        "id": "wzDPdApX2Dl3",
        "outputId": "f8815633-e913-49f6-d624-1c2377a8fe9d"
      },
      "outputs": [
        {
          "name": "stdout",
          "output_type": "stream",
          "text": [
            "(13088, 40)\n",
            "(3273, 40)\n",
            "(13088,)\n",
            "(3273,)\n"
          ]
        }
      ],
      "source": [
        "print(x_train.shape)\n",
        "print(x_valid.shape)\n",
        "print(y_train.shape)\n",
        "print(y_valid.shape)"
      ]
    },
    {
      "cell_type": "code",
      "execution_count": null,
      "metadata": {
        "id": "8sdpzQCbCCUZ"
      },
      "outputs": [],
      "source": [
        "model = tf.keras.Sequential([\n",
        "    tf.keras.layers.Embedding(input_dim=10000, output_dim=40),\n",
        "    tf.keras.layers.LSTM(64),\n",
        "    tf.keras.layers.Dense(128, activation='relu'),\n",
        "    tf.keras.layers.Dense(64, activation='relu'),\n",
        "    tf.keras.layers.Dense(2, activation='softmax')\n",
        "])"
      ]
    },
    {
      "cell_type": "code",
      "execution_count": null,
      "metadata": {
        "id": "8yj9TnBFgOfU"
      },
      "outputs": [],
      "source": [
        "from tensorflow.keras.optimizers import Adam"
      ]
    },
    {
      "cell_type": "code",
      "execution_count": null,
      "metadata": {
        "id": "Hw5LL3vKgQSm"
      },
      "outputs": [],
      "source": [
        "model.compile(\n",
        "    optimizer=Adam(learning_rate = 1e-5), loss=\"sparse_categorical_crossentropy\", metrics=[\"accuracy\"])"
      ]
    },
    {
      "cell_type": "code",
      "execution_count": null,
      "metadata": {
        "colab": {
          "base_uri": "https://localhost:8080/"
        },
        "id": "ezTjoMrQgSlh",
        "outputId": "31c07f9d-9c23-42ad-ce6e-a1456377516c"
      },
      "outputs": [
        {
          "name": "stdout",
          "output_type": "stream",
          "text": [
            "Model: \"sequential_1\"\n",
            "_________________________________________________________________\n",
            " Layer (type)                Output Shape              Param #   \n",
            "=================================================================\n",
            " embedding_1 (Embedding)     (None, None, 40)          400000    \n",
            "                                                                 \n",
            " lstm_1 (LSTM)               (None, 64)                26880     \n",
            "                                                                 \n",
            " dense_2 (Dense)             (None, 128)               8320      \n",
            "                                                                 \n",
            " dense_3 (Dense)             (None, 64)                8256      \n",
            "                                                                 \n",
            " dense_4 (Dense)             (None, 2)                 130       \n",
            "                                                                 \n",
            "=================================================================\n",
            "Total params: 443,586\n",
            "Trainable params: 443,586\n",
            "Non-trainable params: 0\n",
            "_________________________________________________________________\n"
          ]
        }
      ],
      "source": [
        "model.summary()"
      ]
    },
    {
      "cell_type": "code",
      "execution_count": null,
      "metadata": {
        "colab": {
          "base_uri": "https://localhost:8080/"
        },
        "id": "oTAMZcEOgUJc",
        "outputId": "ccb2008a-07ea-4692-e20f-57d451ee239a"
      },
      "outputs": [
        {
          "name": "stdout",
          "output_type": "stream",
          "text": [
            "Epoch 1/100\n",
            "328/328 [==============================] - 10s 22ms/step - loss: 0.6932 - accuracy: 0.5002 - val_loss: 0.6931 - val_accuracy: 0.5061\n",
            "Epoch 2/100\n",
            "328/328 [==============================] - 8s 24ms/step - loss: 0.6931 - accuracy: 0.5050 - val_loss: 0.6931 - val_accuracy: 0.5057\n",
            "Epoch 3/100\n",
            "328/328 [==============================] - 7s 21ms/step - loss: 0.6931 - accuracy: 0.5045 - val_loss: 0.6930 - val_accuracy: 0.5065\n",
            "Epoch 4/100\n",
            "328/328 [==============================] - 8s 24ms/step - loss: 0.6929 - accuracy: 0.5047 - val_loss: 0.6925 - val_accuracy: 0.5080\n",
            "Epoch 5/100\n",
            "328/328 [==============================] - 7s 22ms/step - loss: 0.6848 - accuracy: 0.6166 - val_loss: 0.6448 - val_accuracy: 0.8377\n",
            "Epoch 6/100\n",
            "328/328 [==============================] - 7s 22ms/step - loss: 0.3243 - accuracy: 0.9254 - val_loss: 0.1563 - val_accuracy: 0.9423\n",
            "Epoch 7/100\n",
            "328/328 [==============================] - 8s 23ms/step - loss: 0.1156 - accuracy: 0.9601 - val_loss: 0.1172 - val_accuracy: 0.9545\n",
            "Epoch 8/100\n",
            "328/328 [==============================] - 7s 22ms/step - loss: 0.0916 - accuracy: 0.9670 - val_loss: 0.1033 - val_accuracy: 0.9622\n",
            "Epoch 9/100\n",
            "328/328 [==============================] - 8s 24ms/step - loss: 0.0790 - accuracy: 0.9703 - val_loss: 0.0957 - val_accuracy: 0.9641\n",
            "Epoch 10/100\n",
            "328/328 [==============================] - 7s 21ms/step - loss: 0.0700 - accuracy: 0.9736 - val_loss: 0.0886 - val_accuracy: 0.9656\n",
            "Epoch 11/100\n",
            "328/328 [==============================] - 8s 23ms/step - loss: 0.0620 - accuracy: 0.9774 - val_loss: 0.0821 - val_accuracy: 0.9698\n",
            "Epoch 12/100\n",
            "328/328 [==============================] - 7s 22ms/step - loss: 0.0555 - accuracy: 0.9795 - val_loss: 0.0774 - val_accuracy: 0.9706\n",
            "Epoch 13/100\n",
            "328/328 [==============================] - 7s 22ms/step - loss: 0.0503 - accuracy: 0.9814 - val_loss: 0.0736 - val_accuracy: 0.9721\n",
            "Epoch 14/100\n",
            "328/328 [==============================] - 8s 25ms/step - loss: 0.0462 - accuracy: 0.9830 - val_loss: 0.0704 - val_accuracy: 0.9740\n",
            "Epoch 15/100\n",
            "328/328 [==============================] - 7s 21ms/step - loss: 0.0413 - accuracy: 0.9856 - val_loss: 0.0682 - val_accuracy: 0.9790\n",
            "Epoch 16/100\n",
            "328/328 [==============================] - 8s 24ms/step - loss: 0.0373 - accuracy: 0.9873 - val_loss: 0.0691 - val_accuracy: 0.9782\n",
            "Epoch 17/100\n",
            "328/328 [==============================] - 7s 22ms/step - loss: 0.0344 - accuracy: 0.9891 - val_loss: 0.0678 - val_accuracy: 0.9790\n",
            "Epoch 18/100\n",
            "328/328 [==============================] - 7s 23ms/step - loss: 0.0315 - accuracy: 0.9897 - val_loss: 0.0621 - val_accuracy: 0.9813\n",
            "Epoch 19/100\n",
            "328/328 [==============================] - 8s 24ms/step - loss: 0.0289 - accuracy: 0.9899 - val_loss: 0.0653 - val_accuracy: 0.9805\n",
            "Epoch 20/100\n",
            "328/328 [==============================] - 7s 21ms/step - loss: 0.0263 - accuracy: 0.9912 - val_loss: 0.0606 - val_accuracy: 0.9820\n",
            "Epoch 21/100\n",
            "328/328 [==============================] - 8s 23ms/step - loss: 0.0244 - accuracy: 0.9920 - val_loss: 0.0601 - val_accuracy: 0.9817\n",
            "Epoch 22/100\n",
            "328/328 [==============================] - 7s 21ms/step - loss: 0.0224 - accuracy: 0.9927 - val_loss: 0.0601 - val_accuracy: 0.9820\n",
            "Epoch 23/100\n",
            "328/328 [==============================] - 8s 24ms/step - loss: 0.0208 - accuracy: 0.9933 - val_loss: 0.0623 - val_accuracy: 0.9809\n",
            "Epoch 24/100\n",
            "328/328 [==============================] - 7s 22ms/step - loss: 0.0196 - accuracy: 0.9942 - val_loss: 0.0589 - val_accuracy: 0.9836\n",
            "Epoch 25/100\n",
            "328/328 [==============================] - 8s 23ms/step - loss: 0.0179 - accuracy: 0.9944 - val_loss: 0.0602 - val_accuracy: 0.9824\n",
            "Epoch 26/100\n",
            "328/328 [==============================] - 8s 23ms/step - loss: 0.0164 - accuracy: 0.9952 - val_loss: 0.0590 - val_accuracy: 0.9836\n",
            "Epoch 27/100\n",
            "328/328 [==============================] - 7s 21ms/step - loss: 0.0164 - accuracy: 0.9949 - val_loss: 0.0633 - val_accuracy: 0.9824\n",
            "Epoch 28/100\n",
            "328/328 [==============================] - 8s 24ms/step - loss: 0.0151 - accuracy: 0.9956 - val_loss: 0.0621 - val_accuracy: 0.9836\n",
            "Epoch 29/100\n",
            "328/328 [==============================] - 7s 21ms/step - loss: 0.0137 - accuracy: 0.9962 - val_loss: 0.0619 - val_accuracy: 0.9832\n",
            "Epoch 30/100\n",
            "328/328 [==============================] - 8s 24ms/step - loss: 0.0138 - accuracy: 0.9959 - val_loss: 0.0594 - val_accuracy: 0.9832\n",
            "Epoch 31/100\n",
            "328/328 [==============================] - 7s 21ms/step - loss: 0.0126 - accuracy: 0.9965 - val_loss: 0.0582 - val_accuracy: 0.9847\n",
            "Epoch 32/100\n",
            "328/328 [==============================] - 7s 23ms/step - loss: 0.0120 - accuracy: 0.9967 - val_loss: 0.0598 - val_accuracy: 0.9840\n",
            "Epoch 33/100\n",
            "328/328 [==============================] - 7s 23ms/step - loss: 0.0111 - accuracy: 0.9969 - val_loss: 0.0610 - val_accuracy: 0.9840\n",
            "Epoch 34/100\n",
            "328/328 [==============================] - 7s 22ms/step - loss: 0.0111 - accuracy: 0.9970 - val_loss: 0.0605 - val_accuracy: 0.9847\n",
            "Epoch 35/100\n",
            "328/328 [==============================] - 8s 24ms/step - loss: 0.0099 - accuracy: 0.9973 - val_loss: 0.0650 - val_accuracy: 0.9836\n",
            "Epoch 36/100\n",
            "328/328 [==============================] - 7s 21ms/step - loss: 0.0096 - accuracy: 0.9973 - val_loss: 0.0589 - val_accuracy: 0.9847\n",
            "Epoch 37/100\n",
            "328/328 [==============================] - 8s 23ms/step - loss: 0.0095 - accuracy: 0.9969 - val_loss: 0.0616 - val_accuracy: 0.9855\n",
            "Epoch 38/100\n",
            "328/328 [==============================] - 7s 21ms/step - loss: 0.0084 - accuracy: 0.9974 - val_loss: 0.0594 - val_accuracy: 0.9843\n",
            "Epoch 39/100\n",
            "328/328 [==============================] - 8s 24ms/step - loss: 0.0080 - accuracy: 0.9980 - val_loss: 0.0615 - val_accuracy: 0.9855\n",
            "Epoch 40/100\n",
            "328/328 [==============================] - 7s 22ms/step - loss: 0.0077 - accuracy: 0.9978 - val_loss: 0.0600 - val_accuracy: 0.9866\n",
            "Epoch 41/100\n",
            "328/328 [==============================] - 7s 21ms/step - loss: 0.0071 - accuracy: 0.9981 - val_loss: 0.0603 - val_accuracy: 0.9866\n",
            "Epoch 42/100\n",
            "328/328 [==============================] - 10s 30ms/step - loss: 0.0079 - accuracy: 0.9977 - val_loss: 0.0624 - val_accuracy: 0.9851\n",
            "Epoch 43/100\n",
            "328/328 [==============================] - 7s 22ms/step - loss: 0.0067 - accuracy: 0.9983 - val_loss: 0.0593 - val_accuracy: 0.9866\n",
            "Epoch 44/100\n",
            "328/328 [==============================] - 8s 25ms/step - loss: 0.0067 - accuracy: 0.9980 - val_loss: 0.0617 - val_accuracy: 0.9859\n",
            "Epoch 45/100\n",
            "328/328 [==============================] - 7s 23ms/step - loss: 0.0063 - accuracy: 0.9984 - val_loss: 0.0585 - val_accuracy: 0.9870\n",
            "Epoch 46/100\n",
            "328/328 [==============================] - 8s 24ms/step - loss: 0.0061 - accuracy: 0.9983 - val_loss: 0.0590 - val_accuracy: 0.9866\n",
            "Epoch 47/100\n",
            "328/328 [==============================] - 8s 25ms/step - loss: 0.0057 - accuracy: 0.9985 - val_loss: 0.0604 - val_accuracy: 0.9862\n",
            "Epoch 48/100\n",
            "328/328 [==============================] - 7s 22ms/step - loss: 0.0056 - accuracy: 0.9986 - val_loss: 0.0727 - val_accuracy: 0.9813\n",
            "Epoch 49/100\n",
            "328/328 [==============================] - 8s 25ms/step - loss: 0.0057 - accuracy: 0.9984 - val_loss: 0.0594 - val_accuracy: 0.9859\n",
            "Epoch 50/100\n",
            "328/328 [==============================] - 7s 22ms/step - loss: 0.0053 - accuracy: 0.9989 - val_loss: 0.0622 - val_accuracy: 0.9847\n",
            "Epoch 51/100\n",
            "328/328 [==============================] - 8s 24ms/step - loss: 0.0047 - accuracy: 0.9989 - val_loss: 0.0825 - val_accuracy: 0.9798\n",
            "Epoch 52/100\n",
            "328/328 [==============================] - 8s 24ms/step - loss: 0.0049 - accuracy: 0.9987 - val_loss: 0.0733 - val_accuracy: 0.9813\n",
            "Epoch 53/100\n",
            "328/328 [==============================] - 7s 22ms/step - loss: 0.0053 - accuracy: 0.9984 - val_loss: 0.0628 - val_accuracy: 0.9855\n",
            "Epoch 54/100\n",
            "328/328 [==============================] - 8s 25ms/step - loss: 0.0047 - accuracy: 0.9988 - val_loss: 0.0599 - val_accuracy: 0.9874\n",
            "Epoch 55/100\n",
            "328/328 [==============================] - 7s 22ms/step - loss: 0.0046 - accuracy: 0.9987 - val_loss: 0.0618 - val_accuracy: 0.9855\n",
            "Epoch 56/100\n",
            "328/328 [==============================] - 8s 25ms/step - loss: 0.0042 - accuracy: 0.9988 - val_loss: 0.0632 - val_accuracy: 0.9847\n",
            "Epoch 57/100\n",
            "328/328 [==============================] - 8s 25ms/step - loss: 0.0048 - accuracy: 0.9984 - val_loss: 0.0689 - val_accuracy: 0.9824\n",
            "Epoch 58/100\n",
            "328/328 [==============================] - 7s 22ms/step - loss: 0.0033 - accuracy: 0.9990 - val_loss: 0.0668 - val_accuracy: 0.9836\n",
            "Epoch 59/100\n",
            "328/328 [==============================] - 8s 25ms/step - loss: 0.0044 - accuracy: 0.9987 - val_loss: 0.0648 - val_accuracy: 0.9843\n",
            "Epoch 60/100\n",
            "328/328 [==============================] - 7s 22ms/step - loss: 0.0040 - accuracy: 0.9989 - val_loss: 0.0661 - val_accuracy: 0.9836\n",
            "Epoch 61/100\n",
            "328/328 [==============================] - 8s 24ms/step - loss: 0.0034 - accuracy: 0.9987 - val_loss: 0.0666 - val_accuracy: 0.9840\n",
            "Epoch 62/100\n",
            "328/328 [==============================] - 8s 25ms/step - loss: 0.0040 - accuracy: 0.9985 - val_loss: 0.0702 - val_accuracy: 0.9836\n",
            "Epoch 63/100\n",
            "328/328 [==============================] - 7s 22ms/step - loss: 0.0033 - accuracy: 0.9990 - val_loss: 0.0648 - val_accuracy: 0.9847\n",
            "Epoch 64/100\n",
            "328/328 [==============================] - 8s 25ms/step - loss: 0.0036 - accuracy: 0.9988 - val_loss: 0.0773 - val_accuracy: 0.9813\n",
            "Epoch 65/100\n",
            "328/328 [==============================] - 7s 22ms/step - loss: 0.0034 - accuracy: 0.9989 - val_loss: 0.0749 - val_accuracy: 0.9817\n",
            "Epoch 66/100\n",
            "328/328 [==============================] - 8s 24ms/step - loss: 0.0037 - accuracy: 0.9989 - val_loss: 0.0660 - val_accuracy: 0.9843\n",
            "Epoch 67/100\n",
            "328/328 [==============================] - 8s 24ms/step - loss: 0.0033 - accuracy: 0.9991 - val_loss: 0.0774 - val_accuracy: 0.9813\n",
            "Epoch 68/100\n",
            "328/328 [==============================] - 7s 22ms/step - loss: 0.0027 - accuracy: 0.9991 - val_loss: 0.0721 - val_accuracy: 0.9828\n",
            "Epoch 69/100\n",
            "328/328 [==============================] - 8s 25ms/step - loss: 0.0032 - accuracy: 0.9989 - val_loss: 0.0788 - val_accuracy: 0.9817\n",
            "Epoch 70/100\n",
            "328/328 [==============================] - 7s 22ms/step - loss: 0.0029 - accuracy: 0.9990 - val_loss: 0.0699 - val_accuracy: 0.9840\n",
            "Epoch 71/100\n",
            "328/328 [==============================] - 8s 25ms/step - loss: 0.0027 - accuracy: 0.9990 - val_loss: 0.0687 - val_accuracy: 0.9840\n",
            "Epoch 72/100\n",
            "328/328 [==============================] - 8s 25ms/step - loss: 0.0027 - accuracy: 0.9992 - val_loss: 0.0784 - val_accuracy: 0.9836\n",
            "Epoch 73/100\n",
            "328/328 [==============================] - 7s 22ms/step - loss: 0.0028 - accuracy: 0.9991 - val_loss: 0.0839 - val_accuracy: 0.9820\n",
            "Epoch 74/100\n",
            "328/328 [==============================] - 8s 24ms/step - loss: 0.0025 - accuracy: 0.9992 - val_loss: 0.0754 - val_accuracy: 0.9840\n",
            "Epoch 75/100\n",
            "328/328 [==============================] - 7s 22ms/step - loss: 0.0030 - accuracy: 0.9989 - val_loss: 0.0740 - val_accuracy: 0.9843\n",
            "Epoch 76/100\n",
            "328/328 [==============================] - 8s 24ms/step - loss: 0.0023 - accuracy: 0.9995 - val_loss: 0.0844 - val_accuracy: 0.9824\n",
            "Epoch 77/100\n",
            "328/328 [==============================] - 8s 24ms/step - loss: 0.0027 - accuracy: 0.9990 - val_loss: 0.0800 - val_accuracy: 0.9840\n",
            "Epoch 78/100\n",
            "328/328 [==============================] - 7s 23ms/step - loss: 0.0025 - accuracy: 0.9992 - val_loss: 0.0735 - val_accuracy: 0.9836\n",
            "Epoch 79/100\n",
            "328/328 [==============================] - 8s 25ms/step - loss: 0.0032 - accuracy: 0.9988 - val_loss: 0.0724 - val_accuracy: 0.9843\n",
            "Epoch 80/100\n",
            "328/328 [==============================] - 7s 22ms/step - loss: 0.0030 - accuracy: 0.9989 - val_loss: 0.0802 - val_accuracy: 0.9840\n",
            "Epoch 81/100\n",
            "328/328 [==============================] - 8s 24ms/step - loss: 0.0021 - accuracy: 0.9996 - val_loss: 0.0820 - val_accuracy: 0.9840\n",
            "Epoch 82/100\n",
            "328/328 [==============================] - 8s 23ms/step - loss: 0.0025 - accuracy: 0.9991 - val_loss: 0.0917 - val_accuracy: 0.9813\n",
            "Epoch 83/100\n",
            "328/328 [==============================] - 8s 23ms/step - loss: 0.0023 - accuracy: 0.9992 - val_loss: 0.0801 - val_accuracy: 0.9840\n",
            "Epoch 84/100\n",
            "328/328 [==============================] - 8s 25ms/step - loss: 0.0027 - accuracy: 0.9992 - val_loss: 0.0841 - val_accuracy: 0.9836\n",
            "Epoch 85/100\n",
            "328/328 [==============================] - 7s 22ms/step - loss: 0.0024 - accuracy: 0.9992 - val_loss: 0.0905 - val_accuracy: 0.9828\n",
            "Epoch 86/100\n",
            "328/328 [==============================] - 8s 25ms/step - loss: 0.0024 - accuracy: 0.9992 - val_loss: 0.0884 - val_accuracy: 0.9832\n",
            "Epoch 87/100\n",
            "328/328 [==============================] - 8s 24ms/step - loss: 0.0021 - accuracy: 0.9994 - val_loss: 0.0907 - val_accuracy: 0.9832\n",
            "Epoch 88/100\n",
            "328/328 [==============================] - 8s 24ms/step - loss: 0.0022 - accuracy: 0.9993 - val_loss: 0.0990 - val_accuracy: 0.9809\n",
            "Epoch 89/100\n",
            "328/328 [==============================] - 8s 25ms/step - loss: 0.0021 - accuracy: 0.9995 - val_loss: 0.0920 - val_accuracy: 0.9836\n",
            "Epoch 90/100\n",
            "328/328 [==============================] - 7s 22ms/step - loss: 0.0024 - accuracy: 0.9991 - val_loss: 0.0866 - val_accuracy: 0.9840\n",
            "Epoch 91/100\n",
            "328/328 [==============================] - 8s 25ms/step - loss: 0.0024 - accuracy: 0.9992 - val_loss: 0.0868 - val_accuracy: 0.9832\n",
            "Epoch 92/100\n",
            "328/328 [==============================] - 8s 23ms/step - loss: 0.0020 - accuracy: 0.9994 - val_loss: 0.0883 - val_accuracy: 0.9832\n",
            "Epoch 93/100\n",
            "328/328 [==============================] - 8s 23ms/step - loss: 0.0024 - accuracy: 0.9993 - val_loss: 0.0981 - val_accuracy: 0.9828\n",
            "Epoch 94/100\n",
            "328/328 [==============================] - 8s 25ms/step - loss: 0.0018 - accuracy: 0.9996 - val_loss: 0.0931 - val_accuracy: 0.9847\n",
            "Epoch 95/100\n",
            "328/328 [==============================] - 7s 22ms/step - loss: 0.0025 - accuracy: 0.9992 - val_loss: 0.1028 - val_accuracy: 0.9820\n",
            "Epoch 96/100\n",
            "328/328 [==============================] - 8s 25ms/step - loss: 0.0023 - accuracy: 0.9992 - val_loss: 0.1014 - val_accuracy: 0.9820\n",
            "Epoch 97/100\n",
            "328/328 [==============================] - 8s 23ms/step - loss: 0.0023 - accuracy: 0.9990 - val_loss: 0.0920 - val_accuracy: 0.9843\n",
            "Epoch 98/100\n",
            "328/328 [==============================] - 8s 23ms/step - loss: 0.0021 - accuracy: 0.9994 - val_loss: 0.0920 - val_accuracy: 0.9836\n",
            "Epoch 99/100\n",
            "328/328 [==============================] - 8s 25ms/step - loss: 0.0022 - accuracy: 0.9993 - val_loss: 0.1020 - val_accuracy: 0.9820\n",
            "Epoch 100/100\n",
            "328/328 [==============================] - 7s 22ms/step - loss: 0.0022 - accuracy: 0.9993 - val_loss: 0.0972 - val_accuracy: 0.9832\n"
          ]
        }
      ],
      "source": [
        "h = model.fit(\n",
        "    x_train, y_train, batch_size=32, epochs=100, validation_split=0.2\n",
        ")"
      ]
    },
    {
      "cell_type": "code",
      "execution_count": null,
      "metadata": {
        "colab": {
          "base_uri": "https://localhost:8080/",
          "height": 543
        },
        "id": "X6loZF-8gXAK",
        "outputId": "9c470902-738c-4c9a-e3e3-8549b55865ee"
      },
      "outputs": [
        {
          "data": {
            "image/png": "[encoded data removed]",
            "text/plain": [
              "<Figure size 1600x600 with 2 Axes>"
            ]
          },
          "metadata": {},
          "output_type": "display_data"
        }
      ],
      "source": [
        "def show_history(h):\n",
        "    epochs_trained = len(h.history['loss'])\n",
        "    plt.figure(figsize=(16, 6))\n",
        "\n",
        "    plt.subplot(1, 2, 1)\n",
        "    plt.plot(range(0, epochs_trained), h.history.get('accuracy'), label='Training')\n",
        "    plt.plot(range(0, epochs_trained), h.history.get('val_accuracy'), label='Validation')\n",
        "    plt.ylim([0., 1.])\n",
        "    plt.xlabel('Epochs')\n",
        "    plt.ylabel('Accuracy')\n",
        "    plt.legend()\n",
        "\n",
        "    plt.subplot(1, 2, 2)\n",
        "    plt.plot(range(0, epochs_trained), h.history.get('loss'), label='Training')\n",
        "    plt.plot(range(0, epochs_trained), h.history.get('val_loss'), label='Validation')\n",
        "    plt.xlabel('Epochs')\n",
        "    plt.ylabel('Loss')\n",
        "    plt.legend()\n",
        "    plt.show()\n",
        "\n",
        "show_history(h)"
      ]
    },
    {
      "cell_type": "code",
      "execution_count": null,
      "metadata": {
        "id": "mOBM450CjLyU"
      },
      "outputs": [],
      "source": [
        "model.save_weights('/content/drive/MyDrive/Twitter Depression Dataset/Perbandingan/LSTM.h5')"
      ]
    },
    {
      "cell_type": "code",
      "execution_count": null,
      "metadata": {
        "id": "WcLCWe4Jjc22"
      },
      "outputs": [],
      "source": [
        "model.load_weights('/content/drive/MyDrive/Twitter Depression Dataset/Perbandingan/LSTM.h5')"
      ]
    },
    {
      "cell_type": "code",
      "execution_count": null,
      "metadata": {
        "colab": {
          "base_uri": "https://localhost:8080/"
        },
        "id": "kRCZrOW9jjPq",
        "outputId": "41f8cea4-765f-4620-b35f-ebd25ba7dfe9"
      },
      "outputs": [
        {
          "name": "stdout",
          "output_type": "stream",
          "text": [
            "103/103 [==============================] - 1s 6ms/step - loss: 0.1150 - accuracy: 0.9808\n"
          ]
        }
      ],
      "source": [
        "eval = model.evaluate(x_valid, y_valid)"
      ]
    },
    {
      "cell_type": "code",
      "execution_count": null,
      "metadata": {
        "colab": {
          "base_uri": "https://localhost:8080/"
        },
        "id": "iqzosydQkCYe",
        "outputId": "ff49b16f-51c6-49ca-8e65-839153f9ce6f"
      },
      "outputs": [
        {
          "name": "stdout",
          "output_type": "stream",
          "text": [
            "103/103 [==============================] - 1s 5ms/step\n"
          ]
        },
        {
          "data": {
            "text/plain": [
              "((3273,), (3273,))"
            ]
          },
          "execution_count": 30,
          "metadata": {},
          "output_type": "execute_result"
        }
      ],
      "source": [
        "preds = np.argmax(model.predict(x_valid), axis=1)\n",
        "preds.shape, y_valid.shape"
      ]
    },
    {
      "cell_type": "code",
      "execution_count": null,
      "metadata": {
        "colab": {
          "base_uri": "https://localhost:8080/"
        },
        "id": "SP_2DHN9kurK",
        "outputId": "52569ebf-f044-4512-db04-20237dac53b2"
      },
      "outputs": [
        {
          "name": "stdout",
          "output_type": "stream",
          "text": [
            "[[1567   52]\n",
            " [  11 1643]]\n"
          ]
        }
      ],
      "source": [
        "from sklearn.metrics import confusion_matrix, classification_report\n",
        "cm = confusion_matrix(y_valid, preds)\n",
        "print(cm)"
      ]
    },
    {
      "cell_type": "code",
      "execution_count": null,
      "metadata": {
        "id": "hRKDTxCFkywQ"
      },
      "outputs": [],
      "source": [
        "import warnings\n",
        "warnings.filterwarnings('ignore')"
      ]
    },
    {
      "cell_type": "code",
      "execution_count": null,
      "metadata": {
        "colab": {
          "base_uri": "https://localhost:8080/"
        },
        "id": "EBsrLwDrk0uH",
        "outputId": "62356a2f-a6c9-463a-e13e-2ea66d1db159"
      },
      "outputs": [
        {
          "name": "stdout",
          "output_type": "stream",
          "text": [
            "              precision    recall  f1-score   support\n",
            "\n",
            "           0       0.99      0.97      0.98      1619\n",
            "           1       0.97      0.99      0.98      1654\n",
            "\n",
            "    accuracy                           0.98      3273\n",
            "   macro avg       0.98      0.98      0.98      3273\n",
            "weighted avg       0.98      0.98      0.98      3273\n",
            "\n"
          ]
        }
      ],
      "source": [
        "report = classification_report(y_valid,preds)\n",
        "print(report)"
      ]
    },
    {
      "cell_type": "code",
      "execution_count": null,
      "metadata": {
        "colab": {
          "base_uri": "https://localhost:8080/"
        },
        "id": "59Cu9OO5DcrG",
        "outputId": "35209148-554d-4fd0-df21-fa8704747846"
      },
      "outputs": [
        {
          "name": "stdout",
          "output_type": "stream",
          "text": [
            "Sensitivity:  0.9933494558645707\n",
            "Specificity:  0.967881408276714\n",
            "Precision:  0.9693215339233038\n",
            "Recall:  0.9933494558645707\n",
            "F-measure:  0.9811884144520752\n",
            "Jaccardsimilarity coefficient:  0.963071512309496\n",
            "Dice similarity coefficient:  0.9811884144520753\n"
          ]
        }
      ],
      "source": [
        "tn, fp, fn, tp = confusion_matrix(y_valid.round(),preds.round()).ravel()\n",
        "Sensitivity = tp / (tp + fn)\n",
        "print(\"Sensitivity: \", Sensitivity)\n",
        "# Fraction of the true background that is correctly segmented\n",
        "Specificity = tn / (tn + fp)\n",
        "print(\"Specificity: \", Specificity)\n",
        "# Fraction of the segmented object that is correctly segmented\n",
        "Precision = tp / (tp + fp)\n",
        "print(\"Precision: \", Precision)\n",
        "# Fraction of the true object that is correctly segmented\n",
        "Recall = tp / (tp + fn)\n",
        "print(\"Recall: \", Recall)\n",
        "# Harmonic mean ofprecision and recall\n",
        "F_measure = 2 * (Recall * Precision) / (Recall + Precision)\n",
        "print(\"F-measure: \", F_measure)\n",
        "# Fraction of the union of the segmented object and the true object that is correctly segmented\n",
        "JSC = tp / (fp + tp + fn)\n",
        "print(\"Jaccardsimilarity coefficient: \", JSC)\n",
        "# Fraction of the segmented object set joined with the true object set that is correctly segmented\n",
        "DSC = 2 * tp / (fp + 2 * tp + fn)\n",
        "print(\"Dice similarity coefficient: \", DSC)"
      ]
    },
    {
      "cell_type": "code",
      "execution_count": null,
      "metadata": {
        "colab": {
          "base_uri": "https://localhost:8080/"
        },
        "id": "XyL-q-sEDrQF",
        "outputId": "6696258c-2d5f-4868-ce3a-11ebd8390d37"
      },
      "outputs": [
        {
          "name": "stdout",
          "output_type": "stream",
          "text": [
            "103/103 [==============================] - 1s 5ms/step\n"
          ]
        }
      ],
      "source": [
        "#ROC\n",
        "from sklearn.metrics import roc_curve, auc\n",
        "\n",
        "preds = np.argmax(model.predict(x_valid), axis=1)\n",
        "\n",
        "fpr, tpr, thresholds = roc_curve(y_valid.round(), preds.round())\n",
        "auc_score = auc(fpr,tpr)"
      ]
    },
    {
      "cell_type": "code",
      "execution_count": null,
      "metadata": {
        "colab": {
          "base_uri": "https://localhost:8080/",
          "height": 490
        },
        "id": "Pqk5bL0WDzBY",
        "outputId": "bda1be9b-9ef6-4795-bf88-6550de1faecb"
      },
      "outputs": [
        {
          "data": {
            "text/plain": [
              "<matplotlib.legend.Legend at 0x7f3ba7a7b5b0>"
            ]
          },
          "execution_count": 36,
          "metadata": {},
          "output_type": "execute_result"
        },
        {
          "data": {
            "image/png": "[encoded data removed]",
            "text/plain": [
              "<Figure size 640x480 with 1 Axes>"
            ]
          },
          "metadata": {},
          "output_type": "display_data"
        }
      ],
      "source": [
        "plt.figure(1)\n",
        "plt.plot([0, 1], [0, 1], 'y--')\n",
        "plt.xlim([0.0, 1.0])\n",
        "plt.ylim([0.0, 1.05])\n",
        "plt.plot(fpr, tpr, label = \"AUC {} : {}\".format(1, auc_score))\n",
        "plt.xlabel('False positive rate')\n",
        "plt.ylabel('True positive rate')\n",
        "plt.title('ROC curve')\n",
        "plt.legend(loc=4)"
      ]
    },
    {
      "cell_type": "markdown",
      "metadata": {
        "id": "ENrI3bnQD6t6"
      },
      "source": [
        "Testing"
      ]
    },
    {
      "cell_type": "code",
      "execution_count": null,
      "metadata": {},
      "outputs": [],
      "source": []
    },
    {
      "cell_type": "code",
      "execution_count": null,
      "metadata": {
        "id": "98zjgpT0j3lK"
      },
      "outputs": [],
      "source": [
        "import random\n",
        "for a in range(0,5):\n",
        "  i = random.randint(0, len(y_valid) - 1)\n",
        "\n",
        "  print('Tweet:', text[i])\n",
        "  print('Actual Emotion:', index_to_classes[labels[i]])\n",
        "\n",
        "  p = np.argmax(model.predict(np.expand_dims(x_valid[i], axis=0))[0])\n",
        "\n",
        "  print('Predicted Emotion:', index_to_classes.get(p), '\\n')"
      ]
    }
  ],
  "metadata": {
    "colab": {
      "provenance": []
    },
    "kernelspec": {
      "display_name": "Python 3",
      "name": "python3"
    },
    "language_info": {
      "name": "python"
    }
  },
  "nbformat": 4,
  "nbformat_minor": 0
}
